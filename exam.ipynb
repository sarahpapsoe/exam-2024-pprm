{
 "cells": [
  {
   "cell_type": "markdown",
   "metadata": {},
   "source": [
    "Exam"
   ]
  },
  {
   "cell_type": "markdown",
   "metadata": {},
   "source": [
    "*** Question 1 ***\n"
   ]
  },
  {
   "cell_type": "code",
   "execution_count": null,
   "metadata": {},
   "outputs": [],
   "source": []
  },
  {
   "cell_type": "markdown",
   "metadata": {},
   "source": [
    "***Question 5***\n",
    "\n"
   ]
  },
  {
   "cell_type": "code",
   "execution_count": 1,
   "metadata": {},
   "outputs": [],
   "source": [
    "import pandas as pd\n",
    "from sktime.forecasting.model_selection import temporal_train_test_split\n",
    "from sktime.forecasting.base import ForecastingHorizon\n"
   ]
  },
  {
   "cell_type": "code",
   "execution_count": null,
   "metadata": {},
   "outputs": [],
   "source": [
    "try:\n",
    "  from pulp import *\n",
    "except:\n",
    "  !pip install pulp\n",
    "  from pulp import *\n",
    "\n",
    "import numpy as np\n",
    "\n",
    "\n",
    "# Example data\n",
    "treatments = ['Basic Massage', 'Aromatherapy', 'Deep Tissue Massage']\n",
    "price_range = np.arange(10, 101, 10)  # Pricing levels\n",
    "a_values = {'Basic Massage': 1500, 'Aromatherapy': 2000, 'Deep Tissue Massage': 1600}\n",
    "b_values = {'Basic Massage': 1.5, 'Aromatherapy': 1.2, 'Deep Tissue Massage': 1.3}\n",
    "resource_usage_per_unit = {'Basic Massage': 1, 'Aromatherapy': 2, 'Deep Tissue Massage': 3}\n",
    "total_resource_capacity = 50 # Total resource capacity (e.g., hours available from specialists)\n",
    "\n",
    "demand = {}\n",
    "for treatment in treatments:\n",
    "    demand[treatment] = {}\n",
    "    for p in price_range:\n",
    "        demand[treatment][p] = max(a_values[treatment] * p**(-b_values[treatment]), 0)\n",
    "\n",
    "prob = LpProblem(\"Spa_Treatment_Profit_Maximization\", LpMaximize)\n",
    "\n",
    "price_vars = {}\n",
    "for treatment in treatments:\n",
    "  price_vars[treatment] = LpVariable.dicts(treatment+\"price\", price_range, cat='Binary')\n",
    "\n",
    "prob += lpSum(price_vars[treatment][price] * demand[treatment][price] * price for treatment in treatments for price in price_range)\n",
    "\n",
    "# Constraint Block 1\n",
    "for treatment in treatments:\n",
    "    prob += lpSum(price_vars[treatment][price] for price in price_range) == 1\n",
    "\n",
    "# Constraint Block 2\n",
    "prob += lpSum(price_vars[treatment][price] * demand[treatment][price] * resource_usage_per_unit[treatment]\n",
    "                   for treatment in treatments for price in price_range) <= total_resource_capacity\n",
    "\n",
    "# Solve the problem\n",
    "prob.solve(PULP_CBC_CMD(msg=False))"
   ]
  }
 ],
 "metadata": {
  "kernelspec": {
   "display_name": "Python 3",
   "language": "python",
   "name": "python3"
  },
  "language_info": {
   "codemirror_mode": {
    "name": "ipython",
    "version": 3
   },
   "file_extension": ".py",
   "mimetype": "text/x-python",
   "name": "python",
   "nbconvert_exporter": "python",
   "pygments_lexer": "ipython3",
   "version": "3.10.13"
  }
 },
 "nbformat": 4,
 "nbformat_minor": 2
}
